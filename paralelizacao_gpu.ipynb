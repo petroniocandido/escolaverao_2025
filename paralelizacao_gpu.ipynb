{
 "cells": [
  {
   "cell_type": "code",
   "execution_count": 64,
   "metadata": {},
   "outputs": [],
   "source": [
    "import torch "
   ]
  },
  {
   "cell_type": "code",
   "execution_count": null,
   "metadata": {},
   "outputs": [],
   "source": [
    "dispositivo = 'cuda' if torch.cuda.is_available() else 'cpu'\n",
    "\n",
    "lote = 500\n",
    "entradas = 50\n",
    "neuronios = 50\n",
    "\n",
    "X = torch.rand(lote, entradas, device=dispositivo)\n",
    "\n",
    "W = torch.rand(neuronios, entradas, device=dispositivo)\n",
    "\n",
    "B = torch.rand(neuronios, device=dispositivo)"
   ]
  },
  {
   "cell_type": "markdown",
   "metadata": {},
   "source": [
    "$$y = W\\cdot X + b$$\n",
    "onde:\n",
    "- $X \\in \\mathrm{R}^{p \\times n}$: Entradas\n",
    "- $W \\in \\mathrm{R}^{p \\times n}$: Pesos / Parâmetros\n",
    "- $b \\in \\mathrm{R}^{p}$: Intercepto / Parâmetros\n",
    "- $b \\in \\mathrm{N}^+$: Tamanho do lote (batch)\n",
    "- $p \\in \\mathrm{N}^+$: Número de unidades / neurônios"
   ]
  },
  {
   "cell_type": "markdown",
   "metadata": {},
   "source": [
    "## Implementação sequencial"
   ]
  },
  {
   "cell_type": "code",
   "execution_count": 67,
   "metadata": {},
   "outputs": [
    {
     "data": {
      "text/plain": [
       "torch.Size([500, 50])"
      ]
     },
     "execution_count": 67,
     "metadata": {},
     "output_type": "execute_result"
    }
   ],
   "source": [
    "def linear_sequencial(X, W, B):\n",
    "    saidas = torch.zeros(lote, neuronios, device=dispositivo)\n",
    "    for batch in range(lote):\n",
    "        for neuronio in range(neuronios):\n",
    "            for entrada in range(entradas):\n",
    "                saidas[batch, neuronio] += X[batch,entrada] * W[neuronio, entrada]\n",
    "            saidas[batch, neuronio] += B[neuronio]\n",
    "    return saidas\n",
    "\n",
    "linear_sequencial(X,W,B).size()"
   ]
  },
  {
   "cell_type": "markdown",
   "metadata": {},
   "source": [
    "## Implementação vetorizada com dot product"
   ]
  },
  {
   "cell_type": "code",
   "execution_count": 68,
   "metadata": {},
   "outputs": [
    {
     "data": {
      "text/plain": [
       "torch.Size([500, 50])"
      ]
     },
     "execution_count": 68,
     "metadata": {},
     "output_type": "execute_result"
    }
   ],
   "source": [
    "def linear_vetorizado(X, W, B):\n",
    "    saidas = torch.zeros(lote, neuronios)\n",
    "    for batch in range(lote):\n",
    "        for neuronio in range(neuronios):\n",
    "            saidas[batch, neuronio] = X[batch] @ W[neuronio] + B[neuronio]\n",
    "    return saidas\n",
    "\n",
    "linear_vetorizado(X,W,B).size()"
   ]
  },
  {
   "cell_type": "markdown",
   "metadata": {},
   "source": [
    "## Implementação vetorizada com Vector Maps"
   ]
  },
  {
   "cell_type": "code",
   "execution_count": 69,
   "metadata": {},
   "outputs": [
    {
     "data": {
      "text/plain": [
       "torch.Size([500, 50])"
      ]
     },
     "execution_count": 69,
     "metadata": {},
     "output_type": "execute_result"
    }
   ],
   "source": [
    "def produto(x,y):\n",
    "    return x @ y\n",
    "\n",
    "vmap_produto = torch.func.vmap(produto, in_dims=0)\n",
    "\n",
    "def neuronio_linear(x,w,b):\n",
    "    return vmap_produto(x.repeat(neuronios, 1), w) + b\n",
    "\n",
    "vmap_neuronio = torch.func.vmap(neuronio_linear, in_dims=0)\n",
    "\n",
    "linear_vmap = lambda X,W,B: vmap_neuronio(X, W.repeat(lote,1,1), B.repeat(lote,1))\n",
    "\n",
    "linear_vmap(X,W,B).size()"
   ]
  },
  {
   "cell_type": "markdown",
   "metadata": {},
   "source": []
  },
  {
   "cell_type": "code",
   "execution_count": null,
   "metadata": {},
   "outputs": [],
   "source": []
  }
 ],
 "metadata": {
  "kernelspec": {
   "display_name": "Python 3",
   "language": "python",
   "name": "python3"
  },
  "language_info": {
   "codemirror_mode": {
    "name": "ipython",
    "version": 3
   },
   "file_extension": ".py",
   "mimetype": "text/x-python",
   "name": "python",
   "nbconvert_exporter": "python",
   "pygments_lexer": "ipython3",
   "version": "3.10.11"
  }
 },
 "nbformat": 4,
 "nbformat_minor": 2
}
